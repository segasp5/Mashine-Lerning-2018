{
 "cells": [
  {
   "cell_type": "code",
   "execution_count": 1,
   "metadata": {
    "collapsed": true
   },
   "outputs": [],
   "source": [
    "import warnings \n",
    "warnings.filterwarnings('ignore')"
   ]
  },
  {
   "cell_type": "code",
   "execution_count": 2,
   "metadata": {},
   "outputs": [
    {
     "name": "stderr",
     "output_type": "stream",
     "text": [
      "C:\\Users\\segas\\Anaconda3\\lib\\site-packages\\sklearn\\cross_validation.py:41: DeprecationWarning: This module was deprecated in version 0.18 in favor of the model_selection module into which all the refactored classes and functions are moved. Also note that the interface of the new CV iterators are different from that of this module. This module will be removed in 0.20.\n",
      "  \"This module will be removed in 0.20.\", DeprecationWarning)\n",
      "C:\\Users\\segas\\Anaconda3\\lib\\site-packages\\sklearn\\grid_search.py:42: DeprecationWarning: This module was deprecated in version 0.18 in favor of the model_selection module into which all the refactored classes and functions are moved. This module will be removed in 0.20.\n",
      "  DeprecationWarning)\n"
     ]
    }
   ],
   "source": [
    "import pandas as pd\n",
    "from sklearn import cross_validation, grid_search\n",
    "\n",
    "bioresponce = pd.read_csv('bioresponse.csv', header=0, sep=',')"
   ]
  },
  {
   "cell_type": "code",
   "execution_count": 3,
   "metadata": {},
   "outputs": [
    {
     "data": {
      "text/html": [
       "<div>\n",
       "<style>\n",
       "    .dataframe thead tr:only-child th {\n",
       "        text-align: right;\n",
       "    }\n",
       "\n",
       "    .dataframe thead th {\n",
       "        text-align: left;\n",
       "    }\n",
       "\n",
       "    .dataframe tbody tr th {\n",
       "        vertical-align: top;\n",
       "    }\n",
       "</style>\n",
       "<table border=\"1\" class=\"dataframe\">\n",
       "  <thead>\n",
       "    <tr style=\"text-align: right;\">\n",
       "      <th></th>\n",
       "      <th>Activity</th>\n",
       "      <th>D1</th>\n",
       "      <th>D2</th>\n",
       "      <th>D3</th>\n",
       "      <th>D4</th>\n",
       "      <th>D5</th>\n",
       "      <th>D6</th>\n",
       "      <th>D7</th>\n",
       "      <th>D8</th>\n",
       "      <th>D9</th>\n",
       "      <th>...</th>\n",
       "      <th>D1767</th>\n",
       "      <th>D1768</th>\n",
       "      <th>D1769</th>\n",
       "      <th>D1770</th>\n",
       "      <th>D1771</th>\n",
       "      <th>D1772</th>\n",
       "      <th>D1773</th>\n",
       "      <th>D1774</th>\n",
       "      <th>D1775</th>\n",
       "      <th>D1776</th>\n",
       "    </tr>\n",
       "  </thead>\n",
       "  <tbody>\n",
       "    <tr>\n",
       "      <th>3746</th>\n",
       "      <td>1</td>\n",
       "      <td>0.033300</td>\n",
       "      <td>0.506409</td>\n",
       "      <td>0.10</td>\n",
       "      <td>0.0</td>\n",
       "      <td>0.209887</td>\n",
       "      <td>0.633426</td>\n",
       "      <td>0.297659</td>\n",
       "      <td>0.376124</td>\n",
       "      <td>0.727093</td>\n",
       "      <td>...</td>\n",
       "      <td>0</td>\n",
       "      <td>0</td>\n",
       "      <td>0</td>\n",
       "      <td>0</td>\n",
       "      <td>0</td>\n",
       "      <td>0</td>\n",
       "      <td>0</td>\n",
       "      <td>0</td>\n",
       "      <td>0</td>\n",
       "      <td>0</td>\n",
       "    </tr>\n",
       "    <tr>\n",
       "      <th>3747</th>\n",
       "      <td>1</td>\n",
       "      <td>0.133333</td>\n",
       "      <td>0.651023</td>\n",
       "      <td>0.15</td>\n",
       "      <td>0.0</td>\n",
       "      <td>0.151154</td>\n",
       "      <td>0.766505</td>\n",
       "      <td>0.170876</td>\n",
       "      <td>0.404546</td>\n",
       "      <td>0.787935</td>\n",
       "      <td>...</td>\n",
       "      <td>0</td>\n",
       "      <td>0</td>\n",
       "      <td>1</td>\n",
       "      <td>0</td>\n",
       "      <td>1</td>\n",
       "      <td>0</td>\n",
       "      <td>1</td>\n",
       "      <td>0</td>\n",
       "      <td>0</td>\n",
       "      <td>0</td>\n",
       "    </tr>\n",
       "    <tr>\n",
       "      <th>3748</th>\n",
       "      <td>0</td>\n",
       "      <td>0.200000</td>\n",
       "      <td>0.520564</td>\n",
       "      <td>0.00</td>\n",
       "      <td>0.0</td>\n",
       "      <td>0.179949</td>\n",
       "      <td>0.768785</td>\n",
       "      <td>0.177341</td>\n",
       "      <td>0.471179</td>\n",
       "      <td>0.872241</td>\n",
       "      <td>...</td>\n",
       "      <td>0</td>\n",
       "      <td>0</td>\n",
       "      <td>0</td>\n",
       "      <td>0</td>\n",
       "      <td>0</td>\n",
       "      <td>0</td>\n",
       "      <td>0</td>\n",
       "      <td>0</td>\n",
       "      <td>0</td>\n",
       "      <td>0</td>\n",
       "    </tr>\n",
       "    <tr>\n",
       "      <th>3749</th>\n",
       "      <td>1</td>\n",
       "      <td>0.100000</td>\n",
       "      <td>0.765646</td>\n",
       "      <td>0.00</td>\n",
       "      <td>0.0</td>\n",
       "      <td>0.536954</td>\n",
       "      <td>0.634936</td>\n",
       "      <td>0.342713</td>\n",
       "      <td>0.447162</td>\n",
       "      <td>0.672689</td>\n",
       "      <td>...</td>\n",
       "      <td>0</td>\n",
       "      <td>0</td>\n",
       "      <td>0</td>\n",
       "      <td>0</td>\n",
       "      <td>0</td>\n",
       "      <td>0</td>\n",
       "      <td>0</td>\n",
       "      <td>0</td>\n",
       "      <td>0</td>\n",
       "      <td>0</td>\n",
       "    </tr>\n",
       "    <tr>\n",
       "      <th>3750</th>\n",
       "      <td>0</td>\n",
       "      <td>0.133333</td>\n",
       "      <td>0.533952</td>\n",
       "      <td>0.00</td>\n",
       "      <td>0.0</td>\n",
       "      <td>0.347966</td>\n",
       "      <td>0.757971</td>\n",
       "      <td>0.230667</td>\n",
       "      <td>0.272652</td>\n",
       "      <td>0.854116</td>\n",
       "      <td>...</td>\n",
       "      <td>0</td>\n",
       "      <td>0</td>\n",
       "      <td>0</td>\n",
       "      <td>0</td>\n",
       "      <td>0</td>\n",
       "      <td>0</td>\n",
       "      <td>0</td>\n",
       "      <td>0</td>\n",
       "      <td>0</td>\n",
       "      <td>0</td>\n",
       "    </tr>\n",
       "  </tbody>\n",
       "</table>\n",
       "<p>5 rows × 1777 columns</p>\n",
       "</div>"
      ],
      "text/plain": [
       "      Activity        D1        D2    D3   D4        D5        D6        D7  \\\n",
       "3746         1  0.033300  0.506409  0.10  0.0  0.209887  0.633426  0.297659   \n",
       "3747         1  0.133333  0.651023  0.15  0.0  0.151154  0.766505  0.170876   \n",
       "3748         0  0.200000  0.520564  0.00  0.0  0.179949  0.768785  0.177341   \n",
       "3749         1  0.100000  0.765646  0.00  0.0  0.536954  0.634936  0.342713   \n",
       "3750         0  0.133333  0.533952  0.00  0.0  0.347966  0.757971  0.230667   \n",
       "\n",
       "            D8        D9  ...    D1767  D1768  D1769  D1770  D1771  D1772  \\\n",
       "3746  0.376124  0.727093  ...        0      0      0      0      0      0   \n",
       "3747  0.404546  0.787935  ...        0      0      1      0      1      0   \n",
       "3748  0.471179  0.872241  ...        0      0      0      0      0      0   \n",
       "3749  0.447162  0.672689  ...        0      0      0      0      0      0   \n",
       "3750  0.272652  0.854116  ...        0      0      0      0      0      0   \n",
       "\n",
       "      D1773  D1774  D1775  D1776  \n",
       "3746      0      0      0      0  \n",
       "3747      1      0      0      0  \n",
       "3748      0      0      0      0  \n",
       "3749      0      0      0      0  \n",
       "3750      0      0      0      0  \n",
       "\n",
       "[5 rows x 1777 columns]"
      ]
     },
     "execution_count": 3,
     "metadata": {},
     "output_type": "execute_result"
    }
   ],
   "source": [
    "bioresponce.tail(5)"
   ]
  },
  {
   "cell_type": "code",
   "execution_count": 4,
   "metadata": {
    "collapsed": true
   },
   "outputs": [],
   "source": [
    "y = bioresponce.Activity.values\n",
    "X = bioresponce.iloc[:, 1:]"
   ]
  },
  {
   "cell_type": "code",
   "execution_count": 5,
   "metadata": {
    "collapsed": true
   },
   "outputs": [],
   "source": [
    "from sklearn.model_selection import train_test_split\n",
    "\n",
    "X_train, X_test, y_train, y_test = train_test_split(X, y, test_size=0.3, random_state=15)"
   ]
  },
  {
   "cell_type": "code",
   "execution_count": 6,
   "metadata": {
    "collapsed": true
   },
   "outputs": [],
   "source": [
    "cv=cross_validation.StratifiedShuffleSplit(y_train, test_size = 0.2, random_state = 15)"
   ]
  },
  {
   "cell_type": "markdown",
   "metadata": {},
   "source": [
    "# KNeighborsClassifier"
   ]
  },
  {
   "cell_type": "code",
   "execution_count": 19,
   "metadata": {
    "collapsed": true
   },
   "outputs": [],
   "source": [
    "from sklearn.neighbors import KNeighborsClassifier\n",
    "classifier = KNeighborsClassifier()"
   ]
  },
  {
   "cell_type": "code",
   "execution_count": 20,
   "metadata": {},
   "outputs": [
    {
     "data": {
      "text/plain": [
       "dict_keys(['algorithm', 'leaf_size', 'metric', 'metric_params', 'n_jobs', 'n_neighbors', 'p', 'weights'])"
      ]
     },
     "execution_count": 20,
     "metadata": {},
     "output_type": "execute_result"
    }
   ],
   "source": [
    "classifier.get_params().keys()"
   ]
  },
  {
   "cell_type": "code",
   "execution_count": 91,
   "metadata": {
    "collapsed": true
   },
   "outputs": [],
   "source": [
    "#iteration 1\n",
    "#просмотрим некоторые параметры"
   ]
  },
  {
   "cell_type": "code",
   "execution_count": 28,
   "metadata": {
    "collapsed": true
   },
   "outputs": [],
   "source": [
    "pre_parameters = {\n",
    "    'n_neighbors': list(range(1, 15, 2)),\n",
    "    'algorithm': ['ball_tree', 'kd_tree', 'brute'],\n",
    "    'leaf_size': list(range(10, 50, 10)),\n",
    "    'metric': ['minkowski', 'euclidean', 'manhattan', 'chebyshev', 'canberra', ],\n",
    "    'n_jobs': [-1],\n",
    "    'p': list(range(1,4))\n",
    "}"
   ]
  },
  {
   "cell_type": "code",
   "execution_count": 29,
   "metadata": {
    "collapsed": true
   },
   "outputs": [],
   "source": [
    "rand_grid_cv = grid_search.RandomizedSearchCV(classifier, pre_parameters, scoring = 'accuracy', cv = cv, n_iter = 20, random_state = 15, n_jobs=-1)"
   ]
  },
  {
   "cell_type": "code",
   "execution_count": 30,
   "metadata": {},
   "outputs": [
    {
     "name": "stdout",
     "output_type": "stream",
     "text": [
      "Wall time: 21min 13s\n"
     ]
    },
    {
     "data": {
      "text/plain": [
       "RandomizedSearchCV(cv=StratifiedShuffleSplit(labels=[1 1 ..., 0 1], n_iter=10, test_size=0.2, random_state=15),\n",
       "          error_score='raise',\n",
       "          estimator=KNeighborsClassifier(algorithm='auto', leaf_size=30, metric='minkowski',\n",
       "           metric_params=None, n_jobs=1, n_neighbors=5, p=2,\n",
       "           weights='uniform'),\n",
       "          fit_params={}, iid=True, n_iter=20, n_jobs=-1,\n",
       "          param_distributions={'n_neighbors': [1, 3, 5, 7, 9, 11, 13], 'algorithm': ['ball_tree', 'kd_tree', 'brute'], 'leaf_size': [10, 20, 30, 40], 'metric': ['minkowski', 'euclidean', 'manhattan', 'chebyshev'], 'n_jobs': [-1], 'p': [1, 2, 3]},\n",
       "          pre_dispatch='2*n_jobs', random_state=15, refit=True,\n",
       "          scoring='accuracy', verbose=0)"
      ]
     },
     "execution_count": 30,
     "metadata": {},
     "output_type": "execute_result"
    }
   ],
   "source": [
    "%%time\n",
    "rand_grid_cv.fit(X_train, y_train)"
   ]
  },
  {
   "cell_type": "code",
   "execution_count": 48,
   "metadata": {},
   "outputs": [
    {
     "name": "stdout",
     "output_type": "stream",
     "text": [
      "0.7428571428571429\n",
      "{'p': 1, 'n_neighbors': 1, 'n_jobs': -1, 'metric': 'manhattan', 'leaf_size': 30, 'algorithm': 'kd_tree'}\n"
     ]
    }
   ],
   "source": [
    "print (rand_grid_cv.best_score_)\n",
    "print (rand_grid_cv.best_params_)"
   ]
  },
  {
   "cell_type": "code",
   "execution_count": 81,
   "metadata": {},
   "outputs": [
    {
     "data": {
      "text/plain": [
       "[mean: 0.73810, std: 0.01536, params: {'p': 3, 'n_neighbors': 1, 'n_jobs': -1, 'metric': 'minkowski', 'leaf_size': 10, 'algorithm': 'kd_tree'},\n",
       " mean: 0.73581, std: 0.01428, params: {'p': 1, 'n_neighbors': 3, 'n_jobs': -1, 'metric': 'euclidean', 'leaf_size': 20, 'algorithm': 'kd_tree'},\n",
       " mean: 0.73562, std: 0.01389, params: {'p': 2, 'n_neighbors': 5, 'n_jobs': -1, 'metric': 'euclidean', 'leaf_size': 10, 'algorithm': 'kd_tree'},\n",
       " mean: 0.73562, std: 0.01389, params: {'p': 1, 'n_neighbors': 5, 'n_jobs': -1, 'metric': 'euclidean', 'leaf_size': 30, 'algorithm': 'kd_tree'},\n",
       " mean: 0.72286, std: 0.01767, params: {'p': 2, 'n_neighbors': 13, 'n_jobs': -1, 'metric': 'manhattan', 'leaf_size': 20, 'algorithm': 'ball_tree'},\n",
       " mean: 0.72286, std: 0.01767, params: {'p': 1, 'n_neighbors': 13, 'n_jobs': -1, 'metric': 'manhattan', 'leaf_size': 30, 'algorithm': 'ball_tree'},\n",
       " mean: 0.72229, std: 0.01448, params: {'p': 2, 'n_neighbors': 9, 'n_jobs': -1, 'metric': 'minkowski', 'leaf_size': 30, 'algorithm': 'kd_tree'},\n",
       " mean: 0.72095, std: 0.01517, params: {'p': 3, 'n_neighbors': 11, 'n_jobs': -1, 'metric': 'euclidean', 'leaf_size': 30, 'algorithm': 'kd_tree'},\n",
       " mean: 0.50971, std: 0.01903, params: {'p': 1, 'n_neighbors': 9, 'n_jobs': -1, 'metric': 'chebyshev', 'leaf_size': 20, 'algorithm': 'ball_tree'},\n",
       " mean: 0.50971, std: 0.01903, params: {'p': 3, 'n_neighbors': 9, 'n_jobs': -1, 'metric': 'chebyshev', 'leaf_size': 20, 'algorithm': 'ball_tree'}]"
      ]
     },
     "execution_count": 81,
     "metadata": {},
     "output_type": "execute_result"
    }
   ],
   "source": [
    "sorted(rand_grid_cv.grid_scores_[:10], key = lambda x: x[1], reverse = True)"
   ]
  },
  {
   "cell_type": "code",
   "execution_count": 82,
   "metadata": {
    "collapsed": true
   },
   "outputs": [],
   "source": [
    "#detailed \n",
    "#плохие значения параметров уберём, некоторые рассмотрим более подробно"
   ]
  },
  {
   "cell_type": "code",
   "execution_count": 86,
   "metadata": {
    "collapsed": true
   },
   "outputs": [],
   "source": [
    "parameters = {\n",
    "    'n_neighbors': list(range(1, 6, 1)),\n",
    "    'algorithm': ['kd_tree'],\n",
    "    'leaf_size': list(range(10, 31, 5)),\n",
    "    'metric': ['minkowski', 'euclidean', 'manhattan'],\n",
    "    'n_jobs': [-1],\n",
    "    'p': [1]#we see '1' more often in first lines than '2' and '3'\n",
    "}"
   ]
  },
  {
   "cell_type": "code",
   "execution_count": 87,
   "metadata": {
    "collapsed": true
   },
   "outputs": [],
   "source": [
    "grid_cv = grid_search.GridSearchCV(classifier, parameters, scoring = 'accuracy', cv = cv, n_jobs=-1)"
   ]
  },
  {
   "cell_type": "code",
   "execution_count": 88,
   "metadata": {},
   "outputs": [
    {
     "name": "stdout",
     "output_type": "stream",
     "text": [
      "Wall time: 57min 37s\n"
     ]
    },
    {
     "data": {
      "text/plain": [
       "GridSearchCV(cv=StratifiedShuffleSplit(labels=[1 1 ..., 0 1], n_iter=10, test_size=0.2, random_state=15),\n",
       "       error_score='raise',\n",
       "       estimator=KNeighborsClassifier(algorithm='auto', leaf_size=30, metric='minkowski',\n",
       "           metric_params=None, n_jobs=1, n_neighbors=5, p=2,\n",
       "           weights='uniform'),\n",
       "       fit_params={}, iid=True, n_jobs=-1,\n",
       "       param_grid={'n_neighbors': [1, 2, 3, 4, 5], 'algorithm': ['kd_tree'], 'leaf_size': [10, 15, 20, 25, 30], 'metric': ['minkowski', 'euclidean', 'manhattan'], 'n_jobs': [-1], 'p': [1]},\n",
       "       pre_dispatch='2*n_jobs', refit=True, scoring='accuracy', verbose=0)"
      ]
     },
     "execution_count": 88,
     "metadata": {},
     "output_type": "execute_result"
    }
   ],
   "source": [
    "%%time\n",
    "grid_cv.fit(X_train, y_train)"
   ]
  },
  {
   "cell_type": "code",
   "execution_count": 89,
   "metadata": {},
   "outputs": [
    {
     "data": {
      "text/plain": [
       "KNeighborsClassifier(algorithm='kd_tree', leaf_size=10, metric='minkowski',\n",
       "           metric_params=None, n_jobs=-1, n_neighbors=1, p=1,\n",
       "           weights='uniform')"
      ]
     },
     "execution_count": 89,
     "metadata": {},
     "output_type": "execute_result"
    }
   ],
   "source": [
    "grid_cv.best_estimator_"
   ]
  },
  {
   "cell_type": "code",
   "execution_count": 90,
   "metadata": {},
   "outputs": [
    {
     "name": "stdout",
     "output_type": "stream",
     "text": [
      "0.7428571428571429\n",
      "{'algorithm': 'kd_tree', 'leaf_size': 10, 'metric': 'minkowski', 'n_jobs': -1, 'n_neighbors': 1, 'p': 1}\n"
     ]
    }
   ],
   "source": [
    "print (grid_cv.best_score_)\n",
    "print (grid_cv.best_params_)"
   ]
  },
  {
   "cell_type": "code",
   "execution_count": 93,
   "metadata": {},
   "outputs": [
    {
     "data": {
      "text/plain": [
       "[mean: 0.74286, std: 0.01996, params: {'algorithm': 'kd_tree', 'leaf_size': 10, 'metric': 'minkowski', 'n_jobs': -1, 'n_neighbors': 1, 'p': 1},\n",
       " mean: 0.74267, std: 0.01820, params: {'algorithm': 'kd_tree', 'leaf_size': 10, 'metric': 'euclidean', 'n_jobs': -1, 'n_neighbors': 1, 'p': 1},\n",
       " mean: 0.73867, std: 0.01357, params: {'algorithm': 'kd_tree', 'leaf_size': 10, 'metric': 'minkowski', 'n_jobs': -1, 'n_neighbors': 5, 'p': 1},\n",
       " mean: 0.73676, std: 0.01391, params: {'algorithm': 'kd_tree', 'leaf_size': 10, 'metric': 'minkowski', 'n_jobs': -1, 'n_neighbors': 3, 'p': 1},\n",
       " mean: 0.73581, std: 0.01428, params: {'algorithm': 'kd_tree', 'leaf_size': 10, 'metric': 'euclidean', 'n_jobs': -1, 'n_neighbors': 3, 'p': 1},\n",
       " mean: 0.73562, std: 0.01389, params: {'algorithm': 'kd_tree', 'leaf_size': 10, 'metric': 'euclidean', 'n_jobs': -1, 'n_neighbors': 5, 'p': 1},\n",
       " mean: 0.72990, std: 0.01133, params: {'algorithm': 'kd_tree', 'leaf_size': 10, 'metric': 'minkowski', 'n_jobs': -1, 'n_neighbors': 4, 'p': 1},\n",
       " mean: 0.72419, std: 0.01263, params: {'algorithm': 'kd_tree', 'leaf_size': 10, 'metric': 'euclidean', 'n_jobs': -1, 'n_neighbors': 4, 'p': 1},\n",
       " mean: 0.71829, std: 0.01769, params: {'algorithm': 'kd_tree', 'leaf_size': 10, 'metric': 'minkowski', 'n_jobs': -1, 'n_neighbors': 2, 'p': 1},\n",
       " mean: 0.71429, std: 0.01684, params: {'algorithm': 'kd_tree', 'leaf_size': 10, 'metric': 'euclidean', 'n_jobs': -1, 'n_neighbors': 2, 'p': 1}]"
      ]
     },
     "execution_count": 93,
     "metadata": {},
     "output_type": "execute_result"
    }
   ],
   "source": [
    "sorted(grid_cv.grid_scores_[:10], key = lambda x: x[1], reverse = True)"
   ]
  },
  {
   "cell_type": "code",
   "execution_count": 96,
   "metadata": {},
   "outputs": [
    {
     "name": "stdout",
     "output_type": "stream",
     "text": [
      "KNeighborsClassifier(algorithm='kd_tree', leaf_size=10, metric='minkowski',\n",
      "           metric_params=None, n_jobs=-1, n_neighbors=1, p=1,\n",
      "           weights='uniform')\n"
     ]
    }
   ],
   "source": [
    "#Вывод:\n",
    "#Лучший результат grid_cv совпадает с лучшим результатом rand_grid_cv. Возможно, просто повезло.\n",
    "#Из рассмотренных значений параметров лучшим оказались:\n",
    "\n",
    "print(grid_cv.best_estimator_)"
   ]
  },
  {
   "cell_type": "markdown",
   "metadata": {},
   "source": [
    "# DecisionTreeClassifier"
   ]
  },
  {
   "cell_type": "code",
   "execution_count": 7,
   "metadata": {
    "collapsed": true
   },
   "outputs": [],
   "source": [
    "from sklearn.tree import DecisionTreeClassifier\n",
    "classifier = DecisionTreeClassifier()"
   ]
  },
  {
   "cell_type": "code",
   "execution_count": 92,
   "metadata": {},
   "outputs": [
    {
     "data": {
      "text/plain": [
       "['presort',\n",
       " 'splitter',\n",
       " 'min_impurity_decrease',\n",
       " 'max_leaf_nodes',\n",
       " 'min_samples_leaf',\n",
       " 'min_samples_split',\n",
       " 'min_weight_fraction_leaf',\n",
       " 'criterion',\n",
       " 'random_state',\n",
       " 'min_impurity_split',\n",
       " 'max_features',\n",
       " 'max_depth',\n",
       " 'class_weight']"
      ]
     },
     "execution_count": 92,
     "metadata": {},
     "output_type": "execute_result"
    }
   ],
   "source": [
    "classifier.get_params().keys()"
   ]
  },
  {
   "cell_type": "code",
   "execution_count": 183,
   "metadata": {
    "collapsed": true
   },
   "outputs": [],
   "source": [
    "#iteration 1\n",
    "#просмотрим некоторые прарметры"
   ]
  },
  {
   "cell_type": "code",
   "execution_count": 170,
   "metadata": {
    "collapsed": true
   },
   "outputs": [],
   "source": [
    "pre_parameters = {\n",
    "        'criterion': ['gini', 'entropy'],\n",
    "        'splitter': ['best', 'random'],\n",
    "        'min_samples_split':  list(range(400,610,10)),\n",
    "        'max_depth': list(range(1,50,2)) ,\n",
    "        'max_leaf_nodes': list(range(50,150,10)),\n",
    "        'min_samples_leaf': list(range(100,300,10))\n",
    "}"
   ]
  },
  {
   "cell_type": "code",
   "execution_count": 171,
   "metadata": {
    "collapsed": true
   },
   "outputs": [],
   "source": [
    "rand_grid_cv = grid_search.RandomizedSearchCV(classifier, pre_parameters, scoring = 'accuracy', cv = cv, n_iter = 500, random_state = 15, n_jobs=-1)"
   ]
  },
  {
   "cell_type": "code",
   "execution_count": 172,
   "metadata": {},
   "outputs": [
    {
     "name": "stdout",
     "output_type": "stream",
     "text": [
      "Wall time: 4min 34s\n"
     ]
    },
    {
     "data": {
      "text/plain": [
       "RandomizedSearchCV(cv=StratifiedShuffleSplit(labels=[1 1 ..., 0 1], n_iter=10, test_size=0.2, random_state=15),\n",
       "          error_score='raise',\n",
       "          estimator=DecisionTreeClassifier(class_weight=None, criterion='gini', max_depth=None,\n",
       "            max_features=None, max_leaf_nodes=None,\n",
       "            min_impurity_decrease=0.0, min_impurity_split=None,\n",
       "            min_samples_leaf=1, min_samples_split=2,\n",
       "            min_weight_fraction_leaf=0.0, presort=False, random_state=None,\n",
       "            splitter='best'),\n",
       "          fit_params={}, iid=True, n_iter=500, n_jobs=-1,\n",
       "          param_distributions={'splitter': ['best', 'random'], 'max_leaf_nodes': [50, 60, 70, 80, 90, 100, 110, 120, 130, 140], 'min_samples_leaf': [100, 110, 120, 130, 140, 150, 160, 170, 180, 190, 200, 210, 220, 230, 240, 250, 260, 270, 280, 290], 'criterion': ['gini', 'entropy'], 'min_samples_split': [400,...h': [1, 3, 5, 7, 9, 11, 13, 15, 17, 19, 21, 23, 25, 27, 29, 31, 33, 35, 37, 39, 41, 43, 45, 47, 49]},\n",
       "          pre_dispatch='2*n_jobs', random_state=15, refit=True,\n",
       "          scoring='accuracy', verbose=0)"
      ]
     },
     "execution_count": 172,
     "metadata": {},
     "output_type": "execute_result"
    }
   ],
   "source": [
    "%%time\n",
    "rand_grid_cv.fit(X_train, y_train)"
   ]
  },
  {
   "cell_type": "code",
   "execution_count": 173,
   "metadata": {},
   "outputs": [
    {
     "name": "stdout",
     "output_type": "stream",
     "text": [
      "0.747428571429\n",
      "{'splitter': 'best', 'max_leaf_nodes': 130, 'min_samples_leaf': 100, 'criterion': 'gini', 'min_samples_split': 510, 'max_depth': 13}\n"
     ]
    }
   ],
   "source": [
    "print (rand_grid_cv.best_score_)\n",
    "print (rand_grid_cv.best_params_)"
   ]
  },
  {
   "cell_type": "code",
   "execution_count": 176,
   "metadata": {},
   "outputs": [
    {
     "data": {
      "text/plain": [
       "[mean: 0.74457, std: 0.01197, params: {'splitter': 'best', 'max_leaf_nodes': 60, 'min_samples_leaf': 130, 'criterion': 'entropy', 'min_samples_split': 410, 'max_depth': 15},\n",
       " mean: 0.74400, std: 0.01202, params: {'splitter': 'best', 'max_leaf_nodes': 60, 'min_samples_leaf': 140, 'criterion': 'entropy', 'min_samples_split': 540, 'max_depth': 41},\n",
       " mean: 0.73143, std: 0.02491, params: {'splitter': 'best', 'max_leaf_nodes': 60, 'min_samples_leaf': 230, 'criterion': 'entropy', 'min_samples_split': 570, 'max_depth': 15},\n",
       " mean: 0.72648, std: 0.02303, params: {'splitter': 'random', 'max_leaf_nodes': 70, 'min_samples_leaf': 230, 'criterion': 'gini', 'min_samples_split': 420, 'max_depth': 11},\n",
       " mean: 0.72590, std: 0.02401, params: {'splitter': 'random', 'max_leaf_nodes': 70, 'min_samples_leaf': 140, 'criterion': 'gini', 'min_samples_split': 570, 'max_depth': 9},\n",
       " mean: 0.72514, std: 0.02314, params: {'splitter': 'random', 'max_leaf_nodes': 110, 'min_samples_leaf': 140, 'criterion': 'gini', 'min_samples_split': 410, 'max_depth': 7},\n",
       " mean: 0.72495, std: 0.02172, params: {'splitter': 'best', 'max_leaf_nodes': 90, 'min_samples_leaf': 260, 'criterion': 'gini', 'min_samples_split': 400, 'max_depth': 25},\n",
       " mean: 0.72343, std: 0.02210, params: {'splitter': 'random', 'max_leaf_nodes': 100, 'min_samples_leaf': 200, 'criterion': 'entropy', 'min_samples_split': 520, 'max_depth': 45},\n",
       " mean: 0.72210, std: 0.02159, params: {'splitter': 'random', 'max_leaf_nodes': 90, 'min_samples_leaf': 170, 'criterion': 'gini', 'min_samples_split': 560, 'max_depth': 43},\n",
       " mean: 0.72190, std: 0.02152, params: {'splitter': 'random', 'max_leaf_nodes': 120, 'min_samples_leaf': 150, 'criterion': 'gini', 'min_samples_split': 450, 'max_depth': 47}]"
      ]
     },
     "execution_count": 176,
     "metadata": {},
     "output_type": "execute_result"
    }
   ],
   "source": [
    "sorted(rand_grid_cv.grid_scores_[:10], key = lambda x: x[1], reverse = True)"
   ]
  },
  {
   "cell_type": "code",
   "execution_count": 177,
   "metadata": {
    "collapsed": true
   },
   "outputs": [],
   "source": [
    "#iteration 2"
   ]
  },
  {
   "cell_type": "code",
   "execution_count": 178,
   "metadata": {
    "collapsed": true
   },
   "outputs": [],
   "source": [
    "pre_parameters = {\n",
    "        'criterion': ['gini', 'entropy'],\n",
    "        'splitter': ['best'],\n",
    "        'min_samples_split':  list(range(400,580,10)),\n",
    "        'max_depth': list(range(1,30,2)) ,\n",
    "        'max_leaf_nodes': list(range(50,150,5)),\n",
    "        'min_samples_leaf': list(range(100,250,10))\n",
    "}"
   ]
  },
  {
   "cell_type": "code",
   "execution_count": 179,
   "metadata": {
    "collapsed": true
   },
   "outputs": [],
   "source": [
    "rand_grid_cv = grid_search.RandomizedSearchCV(classifier, pre_parameters, scoring = 'accuracy', cv = cv, n_iter = 500, random_state = 15, n_jobs=-1)"
   ]
  },
  {
   "cell_type": "code",
   "execution_count": 180,
   "metadata": {},
   "outputs": [
    {
     "name": "stdout",
     "output_type": "stream",
     "text": [
      "Wall time: 4min 40s\n"
     ]
    },
    {
     "data": {
      "text/plain": [
       "RandomizedSearchCV(cv=StratifiedShuffleSplit(labels=[1 1 ..., 0 1], n_iter=10, test_size=0.2, random_state=15),\n",
       "          error_score='raise',\n",
       "          estimator=DecisionTreeClassifier(class_weight=None, criterion='gini', max_depth=None,\n",
       "            max_features=None, max_leaf_nodes=None,\n",
       "            min_impurity_decrease=0.0, min_impurity_split=None,\n",
       "            min_samples_leaf=1, min_samples_split=2,\n",
       "            min_weight_fraction_leaf=0.0, presort=False, random_state=None,\n",
       "            splitter='best'),\n",
       "          fit_params={}, iid=True, n_iter=500, n_jobs=-1,\n",
       "          param_distributions={'splitter': ['best'], 'max_leaf_nodes': [50, 55, 60, 65, 70, 75, 80, 85, 90, 95, 100, 105, 110, 115, 120, 125, 130, 135, 140, 145], 'min_samples_leaf': [100, 110, 120, 130, 140, 150, 160, 170, 180, 190, 200, 210, 220, 230, 240], 'criterion': ['gini', 'entropy'], 'min_samples_split': [400, 410, 420, 430, 440, 450, 460, 470, 480, 490, 500, 510, 520, 530, 540, 550, 560, 570], 'max_depth': [1, 3, 5, 7, 9, 11, 13, 15, 17, 19, 21, 23, 25, 27, 29]},\n",
       "          pre_dispatch='2*n_jobs', random_state=15, refit=True,\n",
       "          scoring='accuracy', verbose=0)"
      ]
     },
     "execution_count": 180,
     "metadata": {},
     "output_type": "execute_result"
    }
   ],
   "source": [
    "%%time\n",
    "rand_grid_cv.fit(X_train, y_train)"
   ]
  },
  {
   "cell_type": "code",
   "execution_count": 181,
   "metadata": {
    "scrolled": true
   },
   "outputs": [
    {
     "name": "stdout",
     "output_type": "stream",
     "text": [
      "0.747428571429\n",
      "{'splitter': 'best', 'max_leaf_nodes': 120, 'min_samples_leaf': 100, 'criterion': 'gini', 'min_samples_split': 550, 'max_depth': 3}\n"
     ]
    }
   ],
   "source": [
    "print (rand_grid_cv.best_score_)\n",
    "print (rand_grid_cv.best_params_)"
   ]
  },
  {
   "cell_type": "code",
   "execution_count": 182,
   "metadata": {},
   "outputs": [
    {
     "data": {
      "text/plain": [
       "[mean: 0.74705, std: 0.01266, params: {'splitter': 'best', 'max_leaf_nodes': 110, 'min_samples_leaf': 190, 'criterion': 'gini', 'min_samples_split': 490, 'max_depth': 11},\n",
       " mean: 0.74705, std: 0.01266, params: {'splitter': 'best', 'max_leaf_nodes': 130, 'min_samples_leaf': 190, 'criterion': 'entropy', 'min_samples_split': 430, 'max_depth': 21},\n",
       " mean: 0.74705, std: 0.01266, params: {'splitter': 'best', 'max_leaf_nodes': 90, 'min_samples_leaf': 210, 'criterion': 'gini', 'min_samples_split': 430, 'max_depth': 5},\n",
       " mean: 0.74705, std: 0.01266, params: {'splitter': 'best', 'max_leaf_nodes': 145, 'min_samples_leaf': 180, 'criterion': 'gini', 'min_samples_split': 420, 'max_depth': 13},\n",
       " mean: 0.74705, std: 0.01266, params: {'splitter': 'best', 'max_leaf_nodes': 70, 'min_samples_leaf': 200, 'criterion': 'gini', 'min_samples_split': 490, 'max_depth': 19},\n",
       " mean: 0.74705, std: 0.01266, params: {'splitter': 'best', 'max_leaf_nodes': 80, 'min_samples_leaf': 180, 'criterion': 'gini', 'min_samples_split': 500, 'max_depth': 11},\n",
       " mean: 0.74705, std: 0.01266, params: {'splitter': 'best', 'max_leaf_nodes': 100, 'min_samples_leaf': 190, 'criterion': 'gini', 'min_samples_split': 420, 'max_depth': 23},\n",
       " mean: 0.74705, std: 0.01266, params: {'splitter': 'best', 'max_leaf_nodes': 70, 'min_samples_leaf': 210, 'criterion': 'entropy', 'min_samples_split': 410, 'max_depth': 27},\n",
       " mean: 0.74552, std: 0.01374, params: {'splitter': 'best', 'max_leaf_nodes': 65, 'min_samples_leaf': 220, 'criterion': 'gini', 'min_samples_split': 450, 'max_depth': 17},\n",
       " mean: 0.74514, std: 0.00985, params: {'splitter': 'best', 'max_leaf_nodes': 115, 'min_samples_leaf': 110, 'criterion': 'entropy', 'min_samples_split': 490, 'max_depth': 19},\n",
       " mean: 0.74457, std: 0.01197, params: {'splitter': 'best', 'max_leaf_nodes': 90, 'min_samples_leaf': 130, 'criterion': 'gini', 'min_samples_split': 500, 'max_depth': 3},\n",
       " mean: 0.74457, std: 0.01230, params: {'splitter': 'best', 'max_leaf_nodes': 105, 'min_samples_leaf': 160, 'criterion': 'gini', 'min_samples_split': 450, 'max_depth': 13},\n",
       " mean: 0.74457, std: 0.01230, params: {'splitter': 'best', 'max_leaf_nodes': 90, 'min_samples_leaf': 170, 'criterion': 'entropy', 'min_samples_split': 550, 'max_depth': 21},\n",
       " mean: 0.74457, std: 0.01230, params: {'splitter': 'best', 'max_leaf_nodes': 75, 'min_samples_leaf': 170, 'criterion': 'gini', 'min_samples_split': 490, 'max_depth': 25},\n",
       " mean: 0.74457, std: 0.01197, params: {'splitter': 'best', 'max_leaf_nodes': 125, 'min_samples_leaf': 130, 'criterion': 'entropy', 'min_samples_split': 500, 'max_depth': 13},\n",
       " mean: 0.74400, std: 0.01202, params: {'splitter': 'best', 'max_leaf_nodes': 90, 'min_samples_leaf': 140, 'criterion': 'entropy', 'min_samples_split': 400, 'max_depth': 9},\n",
       " mean: 0.74400, std: 0.01202, params: {'splitter': 'best', 'max_leaf_nodes': 125, 'min_samples_leaf': 140, 'criterion': 'entropy', 'min_samples_split': 460, 'max_depth': 3},\n",
       " mean: 0.74210, std: 0.01258, params: {'splitter': 'best', 'max_leaf_nodes': 100, 'min_samples_leaf': 150, 'criterion': 'gini', 'min_samples_split': 490, 'max_depth': 17},\n",
       " mean: 0.73143, std: 0.02491, params: {'splitter': 'best', 'max_leaf_nodes': 95, 'min_samples_leaf': 230, 'criterion': 'gini', 'min_samples_split': 520, 'max_depth': 3},\n",
       " mean: 0.73143, std: 0.02491, params: {'splitter': 'best', 'max_leaf_nodes': 75, 'min_samples_leaf': 230, 'criterion': 'gini', 'min_samples_split': 550, 'max_depth': 19},\n",
       " mean: 0.73143, std: 0.02491, params: {'splitter': 'best', 'max_leaf_nodes': 125, 'min_samples_leaf': 230, 'criterion': 'entropy', 'min_samples_split': 480, 'max_depth': 13},\n",
       " mean: 0.73143, std: 0.02491, params: {'splitter': 'best', 'max_leaf_nodes': 90, 'min_samples_leaf': 230, 'criterion': 'entropy', 'min_samples_split': 550, 'max_depth': 5},\n",
       " mean: 0.72571, std: 0.02200, params: {'splitter': 'best', 'max_leaf_nodes': 110, 'min_samples_leaf': 240, 'criterion': 'entropy', 'min_samples_split': 400, 'max_depth': 13},\n",
       " mean: 0.72571, std: 0.02200, params: {'splitter': 'best', 'max_leaf_nodes': 120, 'min_samples_leaf': 240, 'criterion': 'entropy', 'min_samples_split': 470, 'max_depth': 9},\n",
       " mean: 0.72571, std: 0.02200, params: {'splitter': 'best', 'max_leaf_nodes': 65, 'min_samples_leaf': 240, 'criterion': 'gini', 'min_samples_split': 410, 'max_depth': 1}]"
      ]
     },
     "execution_count": 182,
     "metadata": {},
     "output_type": "execute_result"
    }
   ],
   "source": [
    "sorted(rand_grid_cv.grid_scores_[:25], key = lambda x: x[1], reverse = True)"
   ]
  },
  {
   "cell_type": "code",
   "execution_count": 82,
   "metadata": {
    "collapsed": true
   },
   "outputs": [],
   "source": [
    "#detailed \n",
    "#плохие значения параметров уберём, некоторые рассмотрим более подробно"
   ]
  },
  {
   "cell_type": "code",
   "execution_count": 10,
   "metadata": {
    "collapsed": true
   },
   "outputs": [],
   "source": [
    "parameters = {\n",
    "        'criterion': ['gini', 'entropy'],\n",
    "        'splitter': ['best'],\n",
    "        'min_samples_split':  list(range(400,501,10)),\n",
    "        'max_depth': [3,11,17,25] ,\n",
    "        'max_leaf_nodes': list(range(70,131,15)),\n",
    "        'min_samples_leaf': list(range(180,221,20))\n",
    "}"
   ]
  },
  {
   "cell_type": "code",
   "execution_count": 11,
   "metadata": {
    "collapsed": true
   },
   "outputs": [],
   "source": [
    "grid_cv = grid_search.GridSearchCV(classifier, parameters, scoring = 'accuracy', cv = cv, n_jobs=-1)"
   ]
  },
  {
   "cell_type": "code",
   "execution_count": 12,
   "metadata": {},
   "outputs": [
    {
     "name": "stdout",
     "output_type": "stream",
     "text": [
      "Wall time: 1h 8min 51s\n"
     ]
    },
    {
     "data": {
      "text/plain": [
       "GridSearchCV(cv=StratifiedShuffleSplit(labels=[1 1 ..., 0 1], n_iter=10, test_size=0.2, random_state=15),\n",
       "       error_score='raise',\n",
       "       estimator=DecisionTreeClassifier(class_weight=None, criterion='gini', max_depth=None,\n",
       "            max_features=None, max_leaf_nodes=None,\n",
       "            min_impurity_decrease=0.0, min_impurity_split=None,\n",
       "            min_samples_leaf=1, min_samples_split=2,\n",
       "            min_weight_fraction_leaf=0.0, presort=False, random_state=None,\n",
       "            splitter='best'),\n",
       "       fit_params={}, iid=True, n_jobs=-1,\n",
       "       param_grid={'criterion': ['gini', 'entropy'], 'splitter': ['best'], 'min_samples_split': [400, 410, 420, 430, 440, 450, 460, 470, 480, 490, 500], 'max_depth': [3, 11, 17, 25], 'max_leaf_nodes': [70, 85, 100, 115, 130], 'min_samples_leaf': [180, 200, 220]},\n",
       "       pre_dispatch='2*n_jobs', refit=True, scoring='accuracy', verbose=0)"
      ]
     },
     "execution_count": 12,
     "metadata": {},
     "output_type": "execute_result"
    }
   ],
   "source": [
    "%%time\n",
    "grid_cv.fit(X_train, y_train)"
   ]
  },
  {
   "cell_type": "code",
   "execution_count": 13,
   "metadata": {},
   "outputs": [
    {
     "data": {
      "text/plain": [
       "DecisionTreeClassifier(class_weight=None, criterion='gini', max_depth=3,\n",
       "            max_features=None, max_leaf_nodes=70,\n",
       "            min_impurity_decrease=0.0, min_impurity_split=None,\n",
       "            min_samples_leaf=180, min_samples_split=400,\n",
       "            min_weight_fraction_leaf=0.0, presort=False, random_state=None,\n",
       "            splitter='best')"
      ]
     },
     "execution_count": 13,
     "metadata": {},
     "output_type": "execute_result"
    }
   ],
   "source": [
    "grid_cv.best_estimator_"
   ]
  },
  {
   "cell_type": "code",
   "execution_count": 14,
   "metadata": {},
   "outputs": [
    {
     "name": "stdout",
     "output_type": "stream",
     "text": [
      "0.7470476190476191\n",
      "{'criterion': 'gini', 'max_depth': 3, 'max_leaf_nodes': 70, 'min_samples_leaf': 180, 'min_samples_split': 400, 'splitter': 'best'}\n"
     ]
    }
   ],
   "source": [
    "print (grid_cv.best_score_)\n",
    "print (grid_cv.best_params_)"
   ]
  },
  {
   "cell_type": "code",
   "execution_count": 15,
   "metadata": {},
   "outputs": [
    {
     "data": {
      "text/plain": [
       "[mean: 0.74705, std: 0.01266, params: {'criterion': 'gini', 'max_depth': 3, 'max_leaf_nodes': 70, 'min_samples_leaf': 180, 'min_samples_split': 400, 'splitter': 'best'},\n",
       " mean: 0.74705, std: 0.01266, params: {'criterion': 'gini', 'max_depth': 3, 'max_leaf_nodes': 70, 'min_samples_leaf': 180, 'min_samples_split': 410, 'splitter': 'best'},\n",
       " mean: 0.74705, std: 0.01266, params: {'criterion': 'gini', 'max_depth': 3, 'max_leaf_nodes': 70, 'min_samples_leaf': 180, 'min_samples_split': 420, 'splitter': 'best'},\n",
       " mean: 0.74705, std: 0.01266, params: {'criterion': 'gini', 'max_depth': 3, 'max_leaf_nodes': 70, 'min_samples_leaf': 180, 'min_samples_split': 430, 'splitter': 'best'},\n",
       " mean: 0.74705, std: 0.01266, params: {'criterion': 'gini', 'max_depth': 3, 'max_leaf_nodes': 70, 'min_samples_leaf': 180, 'min_samples_split': 440, 'splitter': 'best'},\n",
       " mean: 0.74705, std: 0.01266, params: {'criterion': 'gini', 'max_depth': 3, 'max_leaf_nodes': 70, 'min_samples_leaf': 180, 'min_samples_split': 450, 'splitter': 'best'},\n",
       " mean: 0.74705, std: 0.01266, params: {'criterion': 'gini', 'max_depth': 3, 'max_leaf_nodes': 70, 'min_samples_leaf': 180, 'min_samples_split': 460, 'splitter': 'best'},\n",
       " mean: 0.74705, std: 0.01266, params: {'criterion': 'gini', 'max_depth': 3, 'max_leaf_nodes': 70, 'min_samples_leaf': 180, 'min_samples_split': 470, 'splitter': 'best'},\n",
       " mean: 0.74705, std: 0.01266, params: {'criterion': 'gini', 'max_depth': 3, 'max_leaf_nodes': 70, 'min_samples_leaf': 180, 'min_samples_split': 480, 'splitter': 'best'},\n",
       " mean: 0.74705, std: 0.01266, params: {'criterion': 'gini', 'max_depth': 3, 'max_leaf_nodes': 70, 'min_samples_leaf': 180, 'min_samples_split': 490, 'splitter': 'best'}]"
      ]
     },
     "execution_count": 15,
     "metadata": {},
     "output_type": "execute_result"
    }
   ],
   "source": [
    "sorted(grid_cv.grid_scores_[:10], key = lambda x: x[1], reverse = True)"
   ]
  },
  {
   "cell_type": "code",
   "execution_count": 2,
   "metadata": {
    "collapsed": true
   },
   "outputs": [],
   "source": [
    "#Вывод:\n",
    "#Лучший результат grid_cv получился чуть хуже, чем из rand_grid_cv, так как для уменьшения времени вычислений \n",
    "#я сильно сузил диапазон параметров (в него не входит лучшая комбинация rand_grid_cv)"
   ]
  },
  {
   "cell_type": "markdown",
   "metadata": {},
   "source": [
    "# LinearSVC"
   ]
  },
  {
   "cell_type": "code",
   "execution_count": 7,
   "metadata": {
    "collapsed": true
   },
   "outputs": [],
   "source": [
    "from sklearn.svm import LinearSVC\n",
    "classifier = LinearSVC()"
   ]
  },
  {
   "cell_type": "code",
   "execution_count": 8,
   "metadata": {},
   "outputs": [
    {
     "data": {
      "text/plain": [
       "dict_keys(['C', 'class_weight', 'dual', 'fit_intercept', 'intercept_scaling', 'loss', 'max_iter', 'multi_class', 'penalty', 'random_state', 'tol', 'verbose'])"
      ]
     },
     "execution_count": 8,
     "metadata": {},
     "output_type": "execute_result"
    }
   ],
   "source": [
    "classifier.get_params().keys()"
   ]
  },
  {
   "cell_type": "code",
   "execution_count": 9,
   "metadata": {
    "collapsed": true
   },
   "outputs": [],
   "source": [
    "#iteration 1\n",
    "#просмотрим некоторые прарметры"
   ]
  },
  {
   "cell_type": "code",
   "execution_count": 10,
   "metadata": {
    "collapsed": true
   },
   "outputs": [],
   "source": [
    "pre_parameters = {\n",
    "        #'penalty': ['l1', 'l2'],\n",
    "        'loss': ['hinge', 'squared_hinge'],\n",
    "        'multi_class':  ['ovr', 'crammer_singer'],\n",
    "        'C': [x/10.0 for x in range(5,16,1)] ,\n",
    "        'max_iter': list(range(500,1500,100)),\n",
    "}"
   ]
  },
  {
   "cell_type": "code",
   "execution_count": 13,
   "metadata": {
    "collapsed": true
   },
   "outputs": [],
   "source": [
    "rand_grid_cv = grid_search.RandomizedSearchCV(classifier, pre_parameters, scoring = 'accuracy', cv = cv, n_iter = 10, random_state = 15, n_jobs=-1)"
   ]
  },
  {
   "cell_type": "code",
   "execution_count": 14,
   "metadata": {},
   "outputs": [
    {
     "name": "stdout",
     "output_type": "stream",
     "text": [
      "Wall time: 53min 44s\n"
     ]
    },
    {
     "data": {
      "text/plain": [
       "RandomizedSearchCV(cv=StratifiedShuffleSplit(labels=[1 1 ..., 0 1], n_iter=10, test_size=0.2, random_state=15),\n",
       "          error_score='raise',\n",
       "          estimator=LinearSVC(C=1.0, class_weight=None, dual=True, fit_intercept=True,\n",
       "     intercept_scaling=1, loss='squared_hinge', max_iter=1000,\n",
       "     multi_class='ovr', penalty='l2', random_state=None, tol=0.0001,\n",
       "     verbose=0),\n",
       "          fit_params={}, iid=True, n_iter=10, n_jobs=-1,\n",
       "          param_distributions={'loss': ['hinge', 'squared_hinge'], 'multi_class': ['ovr', 'crammer_singer'], 'C': [0.5, 0.6, 0.7, 0.8, 0.9, 1.0, 1.1, 1.2, 1.3, 1.4, 1.5], 'max_iter': [500, 600, 700, 800, 900, 1000, 1100, 1200, 1300, 1400]},\n",
       "          pre_dispatch='2*n_jobs', random_state=15, refit=True,\n",
       "          scoring='accuracy', verbose=0)"
      ]
     },
     "execution_count": 14,
     "metadata": {},
     "output_type": "execute_result"
    }
   ],
   "source": [
    "%%time\n",
    "rand_grid_cv.fit(X_train, y_train)"
   ]
  },
  {
   "cell_type": "code",
   "execution_count": 15,
   "metadata": {},
   "outputs": [
    {
     "name": "stdout",
     "output_type": "stream",
     "text": [
      "0.7356190476190476\n",
      "{'multi_class': 'ovr', 'max_iter': 500, 'loss': 'hinge', 'C': 0.6}\n"
     ]
    }
   ],
   "source": [
    "print (rand_grid_cv.best_score_)\n",
    "print (rand_grid_cv.best_params_)"
   ]
  },
  {
   "cell_type": "code",
   "execution_count": 16,
   "metadata": {},
   "outputs": [
    {
     "data": {
      "text/plain": [
       "[mean: 0.73562, std: 0.01566, params: {'multi_class': 'ovr', 'max_iter': 500, 'loss': 'hinge', 'C': 0.6},\n",
       " mean: 0.73143, std: 0.01043, params: {'multi_class': 'crammer_singer', 'max_iter': 500, 'loss': 'squared_hinge', 'C': 0.5},\n",
       " mean: 0.73143, std: 0.01043, params: {'multi_class': 'crammer_singer', 'max_iter': 700, 'loss': 'squared_hinge', 'C': 0.5},\n",
       " mean: 0.73010, std: 0.00914, params: {'multi_class': 'ovr', 'max_iter': 600, 'loss': 'hinge', 'C': 1.3},\n",
       " mean: 0.72990, std: 0.01073, params: {'multi_class': 'crammer_singer', 'max_iter': 800, 'loss': 'squared_hinge', 'C': 0.6},\n",
       " mean: 0.72914, std: 0.00636, params: {'multi_class': 'crammer_singer', 'max_iter': 700, 'loss': 'hinge', 'C': 0.8},\n",
       " mean: 0.72724, std: 0.00985, params: {'multi_class': 'crammer_singer', 'max_iter': 1200, 'loss': 'squared_hinge', 'C': 1.2},\n",
       " mean: 0.72629, std: 0.00926, params: {'multi_class': 'crammer_singer', 'max_iter': 500, 'loss': 'hinge', 'C': 1.1},\n",
       " mean: 0.72610, std: 0.00766, params: {'multi_class': 'crammer_singer', 'max_iter': 1000, 'loss': 'hinge', 'C': 1.0},\n",
       " mean: 0.72400, std: 0.01045, params: {'multi_class': 'ovr', 'max_iter': 1000, 'loss': 'squared_hinge', 'C': 1.0}]"
      ]
     },
     "execution_count": 16,
     "metadata": {},
     "output_type": "execute_result"
    }
   ],
   "source": [
    "sorted(rand_grid_cv.grid_scores_[:18], key = lambda x: x[1], reverse = True)"
   ]
  },
  {
   "cell_type": "code",
   "execution_count": 18,
   "metadata": {
    "collapsed": true
   },
   "outputs": [],
   "source": [
    "#из-за большого времени вычисления остановимся на этом"
   ]
  },
  {
   "cell_type": "markdown",
   "metadata": {},
   "source": [
    "# RandomForestClassifier"
   ]
  },
  {
   "cell_type": "code",
   "execution_count": 10,
   "metadata": {
    "collapsed": true
   },
   "outputs": [],
   "source": [
    "from sklearn.ensemble import RandomForestClassifier\n",
    "classifier = RandomForestClassifier()"
   ]
  },
  {
   "cell_type": "code",
   "execution_count": 23,
   "metadata": {},
   "outputs": [
    {
     "data": {
      "text/plain": [
       "dict_keys(['bootstrap', 'class_weight', 'criterion', 'max_depth', 'max_features', 'max_leaf_nodes', 'min_impurity_decrease', 'min_impurity_split', 'min_samples_leaf', 'min_samples_split', 'min_weight_fraction_leaf', 'n_estimators', 'n_jobs', 'oob_score', 'random_state', 'verbose', 'warm_start'])"
      ]
     },
     "execution_count": 23,
     "metadata": {},
     "output_type": "execute_result"
    }
   ],
   "source": [
    "classifier.get_params().keys()"
   ]
  },
  {
   "cell_type": "code",
   "execution_count": 24,
   "metadata": {
    "collapsed": true
   },
   "outputs": [],
   "source": [
    "#iteration 1\n",
    "#просмотрим некоторые прарметры"
   ]
  },
  {
   "cell_type": "code",
   "execution_count": 43,
   "metadata": {
    "collapsed": true
   },
   "outputs": [],
   "source": [
    "pre_parameters = {\n",
    "        'n_estimators': list(range(10,301,10)),\n",
    "        'criterion': ['gini', 'entropy'],\n",
    "        'max_features':  ['auto', 'sqrt', 'log2'],\n",
    "        'max_leaf_nodes': list(range(50,200,10)),\n",
    "        'n_jobs': [-1]\n",
    "}"
   ]
  },
  {
   "cell_type": "code",
   "execution_count": 44,
   "metadata": {
    "collapsed": true
   },
   "outputs": [],
   "source": [
    "rand_grid_cv = grid_search.RandomizedSearchCV(classifier, pre_parameters, scoring = 'accuracy', cv = cv, n_iter = 60, random_state = 15, n_jobs=-1)"
   ]
  },
  {
   "cell_type": "code",
   "execution_count": 45,
   "metadata": {},
   "outputs": [
    {
     "name": "stdout",
     "output_type": "stream",
     "text": [
      "Wall time: 17min 2s\n"
     ]
    },
    {
     "data": {
      "text/plain": [
       "RandomizedSearchCV(cv=StratifiedShuffleSplit(labels=[1 1 ..., 0 1], n_iter=10, test_size=0.2, random_state=15),\n",
       "          error_score='raise',\n",
       "          estimator=RandomForestClassifier(bootstrap=True, class_weight=None, criterion='gini',\n",
       "            max_depth=None, max_features='auto', max_leaf_nodes=None,\n",
       "            min_impurity_decrease=0.0, min_impurity_split=None,\n",
       "            min_samples_leaf=1, min_samples_split=2,\n",
       "            min_weight_fraction_leaf=0.0, n_estimators=10, n_jobs=1,\n",
       "            oob_score=False, random_state=None, verbose=0,\n",
       "            warm_start=False),\n",
       "          fit_params={}, iid=True, n_iter=60, n_jobs=-1,\n",
       "          param_distributions={'n_estimators': [10, 20, 30, 40, 50, 60, 70, 80, 90, 100, 110, 120, 130, 140, 150, 160, 170, 180, 190, 200, 210, 220, 230, 240, 250, 260, 270, 280, 290, 300], 'criterion': ['gini', 'entropy'], 'max_features': ['auto', 'sqrt', 'log2'], 'max_leaf_nodes': [50, 60, 70, 80, 90, 100, 110, 120, 130, 140, 150, 160, 170, 180, 190], 'n_jobs': [-1]},\n",
       "          pre_dispatch='2*n_jobs', random_state=15, refit=True,\n",
       "          scoring='accuracy', verbose=0)"
      ]
     },
     "execution_count": 45,
     "metadata": {},
     "output_type": "execute_result"
    }
   ],
   "source": [
    "%%time\n",
    "rand_grid_cv.fit(X_train, y_train)"
   ]
  },
  {
   "cell_type": "code",
   "execution_count": 46,
   "metadata": {},
   "outputs": [
    {
     "name": "stdout",
     "output_type": "stream",
     "text": [
      "0.7902857142857143\n",
      "{'n_jobs': -1, 'n_estimators': 300, 'max_leaf_nodes': 140, 'max_features': 'sqrt', 'criterion': 'entropy'}\n"
     ]
    }
   ],
   "source": [
    "print (rand_grid_cv.best_score_)\n",
    "print (rand_grid_cv.best_params_)"
   ]
  },
  {
   "cell_type": "code",
   "execution_count": 47,
   "metadata": {},
   "outputs": [
    {
     "data": {
      "text/plain": [
       "[mean: 0.79029, std: 0.01434, params: {'n_jobs': -1, 'n_estimators': 300, 'max_leaf_nodes': 140, 'max_features': 'sqrt', 'criterion': 'entropy'},\n",
       " mean: 0.78076, std: 0.01546, params: {'n_jobs': -1, 'n_estimators': 50, 'max_leaf_nodes': 130, 'max_features': 'sqrt', 'criterion': 'entropy'},\n",
       " mean: 0.77486, std: 0.01294, params: {'n_jobs': -1, 'n_estimators': 100, 'max_leaf_nodes': 70, 'max_features': 'auto', 'criterion': 'entropy'},\n",
       " mean: 0.76895, std: 0.01735, params: {'n_jobs': -1, 'n_estimators': 240, 'max_leaf_nodes': 180, 'max_features': 'log2', 'criterion': 'entropy'},\n",
       " mean: 0.76800, std: 0.01330, params: {'n_jobs': -1, 'n_estimators': 280, 'max_leaf_nodes': 180, 'max_features': 'log2', 'criterion': 'entropy'},\n",
       " mean: 0.76743, std: 0.01808, params: {'n_jobs': -1, 'n_estimators': 270, 'max_leaf_nodes': 160, 'max_features': 'log2', 'criterion': 'gini'},\n",
       " mean: 0.76724, std: 0.01747, params: {'n_jobs': -1, 'n_estimators': 230, 'max_leaf_nodes': 150, 'max_features': 'log2', 'criterion': 'entropy'},\n",
       " mean: 0.75943, std: 0.01857, params: {'n_jobs': -1, 'n_estimators': 190, 'max_leaf_nodes': 110, 'max_features': 'log2', 'criterion': 'entropy'},\n",
       " mean: 0.75657, std: 0.02003, params: {'n_jobs': -1, 'n_estimators': 40, 'max_leaf_nodes': 130, 'max_features': 'log2', 'criterion': 'entropy'},\n",
       " mean: 0.74343, std: 0.01807, params: {'n_jobs': -1, 'n_estimators': 260, 'max_leaf_nodes': 60, 'max_features': 'log2', 'criterion': 'entropy'}]"
      ]
     },
     "execution_count": 47,
     "metadata": {},
     "output_type": "execute_result"
    }
   ],
   "source": [
    "sorted(rand_grid_cv.grid_scores_[:10], key = lambda x: x[1], reverse = True)"
   ]
  },
  {
   "cell_type": "code",
   "execution_count": 42,
   "metadata": {
    "collapsed": true
   },
   "outputs": [],
   "source": [
    "#iteration 2"
   ]
  },
  {
   "cell_type": "code",
   "execution_count": 8,
   "metadata": {
    "collapsed": true
   },
   "outputs": [],
   "source": [
    "pre_parameters = {\n",
    "        'n_estimators': list(range(200,401,10)),\n",
    "        'criterion': ['entropy'],\n",
    "        'max_features':  ['auto', 'sqrt', 'log2'],\n",
    "        'max_leaf_nodes': list(range(100,300,10)),\n",
    "        'n_jobs': [-1]\n",
    "}"
   ]
  },
  {
   "cell_type": "code",
   "execution_count": 11,
   "metadata": {},
   "outputs": [],
   "source": [
    "rand_grid_cv = grid_search.RandomizedSearchCV(classifier, pre_parameters, scoring = 'accuracy', cv = cv, n_iter = 50, random_state = 15, n_jobs=-1)"
   ]
  },
  {
   "cell_type": "code",
   "execution_count": 12,
   "metadata": {},
   "outputs": [
    {
     "name": "stdout",
     "output_type": "stream",
     "text": [
      "Wall time: 36min 24s\n"
     ]
    },
    {
     "data": {
      "text/plain": [
       "RandomizedSearchCV(cv=StratifiedShuffleSplit(labels=[1 1 ..., 0 1], n_iter=10, test_size=0.2, random_state=15),\n",
       "          error_score='raise',\n",
       "          estimator=RandomForestClassifier(bootstrap=True, class_weight=None, criterion='gini',\n",
       "            max_depth=None, max_features='auto', max_leaf_nodes=None,\n",
       "            min_impurity_decrease=0.0, min_impurity_split=None,\n",
       "            min_samples_leaf=1, min_samples_split=2,\n",
       "            min_weight_fraction_leaf=0.0, n_estimators=10, n_jobs=1,\n",
       "            oob_score=False, random_state=None, verbose=0,\n",
       "            warm_start=False),\n",
       "          fit_params={}, iid=True, n_iter=50, n_jobs=-1,\n",
       "          param_distributions={'n_estimators': [200, 210, 220, 230, 240, 250, 260, 270, 280, 290, 300, 310, 320, 330, 340, 350, 360, 370, 380, 390, 400], 'criterion': ['entropy'], 'max_features': ['auto', 'sqrt', 'log2'], 'max_leaf_nodes': [100, 110, 120, 130, 140, 150, 160, 170, 180, 190, 200, 210, 220, 230, 240, 250, 260, 270, 280, 290], 'n_jobs': [-1]},\n",
       "          pre_dispatch='2*n_jobs', random_state=15, refit=True,\n",
       "          scoring='accuracy', verbose=0)"
      ]
     },
     "execution_count": 12,
     "metadata": {},
     "output_type": "execute_result"
    }
   ],
   "source": [
    "%%time\n",
    "rand_grid_cv.fit(X_train, y_train)"
   ]
  },
  {
   "cell_type": "code",
   "execution_count": 13,
   "metadata": {
    "scrolled": true
   },
   "outputs": [
    {
     "name": "stdout",
     "output_type": "stream",
     "text": [
      "0.792952380952381\n",
      "{'n_jobs': -1, 'n_estimators': 300, 'max_leaf_nodes': 210, 'max_features': 'sqrt', 'criterion': 'entropy'}\n"
     ]
    }
   ],
   "source": [
    "print (rand_grid_cv.best_score_)\n",
    "print (rand_grid_cv.best_params_)"
   ]
  },
  {
   "cell_type": "code",
   "execution_count": 14,
   "metadata": {},
   "outputs": [
    {
     "data": {
      "text/plain": [
       "[mean: 0.79295, std: 0.01258, params: {'n_jobs': -1, 'n_estimators': 300, 'max_leaf_nodes': 210, 'max_features': 'sqrt', 'criterion': 'entropy'},\n",
       " mean: 0.79181, std: 0.01384, params: {'n_jobs': -1, 'n_estimators': 350, 'max_leaf_nodes': 250, 'max_features': 'sqrt', 'criterion': 'entropy'},\n",
       " mean: 0.79105, std: 0.01323, params: {'n_jobs': -1, 'n_estimators': 350, 'max_leaf_nodes': 240, 'max_features': 'sqrt', 'criterion': 'entropy'},\n",
       " mean: 0.79048, std: 0.00813, params: {'n_jobs': -1, 'n_estimators': 200, 'max_leaf_nodes': 270, 'max_features': 'sqrt', 'criterion': 'entropy'},\n",
       " mean: 0.79029, std: 0.01128, params: {'n_jobs': -1, 'n_estimators': 290, 'max_leaf_nodes': 140, 'max_features': 'sqrt', 'criterion': 'entropy'},\n",
       " mean: 0.79010, std: 0.01234, params: {'n_jobs': -1, 'n_estimators': 270, 'max_leaf_nodes': 200, 'max_features': 'sqrt', 'criterion': 'entropy'},\n",
       " mean: 0.78971, std: 0.01555, params: {'n_jobs': -1, 'n_estimators': 390, 'max_leaf_nodes': 250, 'max_features': 'auto', 'criterion': 'entropy'},\n",
       " mean: 0.78933, std: 0.01508, params: {'n_jobs': -1, 'n_estimators': 200, 'max_leaf_nodes': 200, 'max_features': 'auto', 'criterion': 'entropy'},\n",
       " mean: 0.78914, std: 0.01249, params: {'n_jobs': -1, 'n_estimators': 250, 'max_leaf_nodes': 190, 'max_features': 'auto', 'criterion': 'entropy'},\n",
       " mean: 0.78876, std: 0.01421, params: {'n_jobs': -1, 'n_estimators': 360, 'max_leaf_nodes': 230, 'max_features': 'auto', 'criterion': 'entropy'},\n",
       " mean: 0.78876, std: 0.01141, params: {'n_jobs': -1, 'n_estimators': 340, 'max_leaf_nodes': 170, 'max_features': 'auto', 'criterion': 'entropy'},\n",
       " mean: 0.78838, std: 0.01276, params: {'n_jobs': -1, 'n_estimators': 210, 'max_leaf_nodes': 170, 'max_features': 'auto', 'criterion': 'entropy'},\n",
       " mean: 0.78781, std: 0.01143, params: {'n_jobs': -1, 'n_estimators': 300, 'max_leaf_nodes': 160, 'max_features': 'sqrt', 'criterion': 'entropy'},\n",
       " mean: 0.78648, std: 0.01437, params: {'n_jobs': -1, 'n_estimators': 400, 'max_leaf_nodes': 160, 'max_features': 'sqrt', 'criterion': 'entropy'},\n",
       " mean: 0.78648, std: 0.01343, params: {'n_jobs': -1, 'n_estimators': 400, 'max_leaf_nodes': 150, 'max_features': 'auto', 'criterion': 'entropy'},\n",
       " mean: 0.78590, std: 0.01292, params: {'n_jobs': -1, 'n_estimators': 300, 'max_leaf_nodes': 140, 'max_features': 'auto', 'criterion': 'entropy'},\n",
       " mean: 0.78495, std: 0.01166, params: {'n_jobs': -1, 'n_estimators': 350, 'max_leaf_nodes': 150, 'max_features': 'auto', 'criterion': 'entropy'},\n",
       " mean: 0.78457, std: 0.01491, params: {'n_jobs': -1, 'n_estimators': 280, 'max_leaf_nodes': 110, 'max_features': 'sqrt', 'criterion': 'entropy'},\n",
       " mean: 0.78419, std: 0.01483, params: {'n_jobs': -1, 'n_estimators': 270, 'max_leaf_nodes': 110, 'max_features': 'sqrt', 'criterion': 'entropy'},\n",
       " mean: 0.78324, std: 0.01397, params: {'n_jobs': -1, 'n_estimators': 300, 'max_leaf_nodes': 100, 'max_features': 'sqrt', 'criterion': 'entropy'},\n",
       " mean: 0.77181, std: 0.01591, params: {'n_jobs': -1, 'n_estimators': 340, 'max_leaf_nodes': 210, 'max_features': 'log2', 'criterion': 'entropy'},\n",
       " mean: 0.76933, std: 0.01804, params: {'n_jobs': -1, 'n_estimators': 250, 'max_leaf_nodes': 140, 'max_features': 'log2', 'criterion': 'entropy'},\n",
       " mean: 0.76876, std: 0.01689, params: {'n_jobs': -1, 'n_estimators': 280, 'max_leaf_nodes': 170, 'max_features': 'log2', 'criterion': 'entropy'},\n",
       " mean: 0.76686, std: 0.01984, params: {'n_jobs': -1, 'n_estimators': 260, 'max_leaf_nodes': 150, 'max_features': 'log2', 'criterion': 'entropy'},\n",
       " mean: 0.76267, std: 0.01742, params: {'n_jobs': -1, 'n_estimators': 390, 'max_leaf_nodes': 130, 'max_features': 'log2', 'criterion': 'entropy'}]"
      ]
     },
     "execution_count": 14,
     "metadata": {},
     "output_type": "execute_result"
    }
   ],
   "source": [
    "sorted(rand_grid_cv.grid_scores_[:25], key = lambda x: x[1], reverse = True)"
   ]
  },
  {
   "cell_type": "code",
   "execution_count": 21,
   "metadata": {
    "collapsed": true
   },
   "outputs": [],
   "source": [
    "#detailed "
   ]
  },
  {
   "cell_type": "code",
   "execution_count": 15,
   "metadata": {
    "collapsed": true
   },
   "outputs": [],
   "source": [
    "parameters = {\n",
    "        'n_estimators': list(range(250,351,10)),\n",
    "        'criterion': ['entropy'],\n",
    "        'max_features':  ['sqrt',],\n",
    "        'max_leaf_nodes': list(range(200,251,10)),\n",
    "        'n_jobs': [-1]\n",
    "}"
   ]
  },
  {
   "cell_type": "code",
   "execution_count": 16,
   "metadata": {
    "collapsed": true
   },
   "outputs": [],
   "source": [
    "grid_cv = grid_search.GridSearchCV(classifier, parameters, scoring = 'accuracy', cv = cv, n_jobs=-1)"
   ]
  },
  {
   "cell_type": "code",
   "execution_count": 17,
   "metadata": {},
   "outputs": [
    {
     "name": "stdout",
     "output_type": "stream",
     "text": [
      "Wall time: 54min 36s\n"
     ]
    },
    {
     "data": {
      "text/plain": [
       "GridSearchCV(cv=StratifiedShuffleSplit(labels=[1 1 ..., 0 1], n_iter=10, test_size=0.2, random_state=15),\n",
       "       error_score='raise',\n",
       "       estimator=RandomForestClassifier(bootstrap=True, class_weight=None, criterion='gini',\n",
       "            max_depth=None, max_features='auto', max_leaf_nodes=None,\n",
       "            min_impurity_decrease=0.0, min_impurity_split=None,\n",
       "            min_samples_leaf=1, min_samples_split=2,\n",
       "            min_weight_fraction_leaf=0.0, n_estimators=10, n_jobs=1,\n",
       "            oob_score=False, random_state=None, verbose=0,\n",
       "            warm_start=False),\n",
       "       fit_params={}, iid=True, n_jobs=-1,\n",
       "       param_grid={'n_estimators': [250, 260, 270, 280, 290, 300, 310, 320, 330, 340, 350], 'criterion': ['entropy'], 'max_features': ['sqrt'], 'max_leaf_nodes': [200, 210, 220, 230, 240, 250], 'n_jobs': [-1]},\n",
       "       pre_dispatch='2*n_jobs', refit=True, scoring='accuracy', verbose=0)"
      ]
     },
     "execution_count": 17,
     "metadata": {},
     "output_type": "execute_result"
    }
   ],
   "source": [
    "%%time\n",
    "grid_cv.fit(X_train, y_train)"
   ]
  },
  {
   "cell_type": "code",
   "execution_count": 18,
   "metadata": {},
   "outputs": [
    {
     "data": {
      "text/plain": [
       "RandomForestClassifier(bootstrap=True, class_weight=None, criterion='entropy',\n",
       "            max_depth=None, max_features='sqrt', max_leaf_nodes=240,\n",
       "            min_impurity_decrease=0.0, min_impurity_split=None,\n",
       "            min_samples_leaf=1, min_samples_split=2,\n",
       "            min_weight_fraction_leaf=0.0, n_estimators=280, n_jobs=-1,\n",
       "            oob_score=False, random_state=None, verbose=0,\n",
       "            warm_start=False)"
      ]
     },
     "execution_count": 18,
     "metadata": {},
     "output_type": "execute_result"
    }
   ],
   "source": [
    "grid_cv.best_estimator_"
   ]
  },
  {
   "cell_type": "code",
   "execution_count": 19,
   "metadata": {},
   "outputs": [
    {
     "name": "stdout",
     "output_type": "stream",
     "text": [
      "0.7942857142857143\n",
      "{'criterion': 'entropy', 'max_features': 'sqrt', 'max_leaf_nodes': 240, 'n_estimators': 280, 'n_jobs': -1}\n"
     ]
    }
   ],
   "source": [
    "print (grid_cv.best_score_)\n",
    "print (grid_cv.best_params_)"
   ]
  },
  {
   "cell_type": "code",
   "execution_count": 20,
   "metadata": {},
   "outputs": [
    {
     "data": {
      "text/plain": [
       "[mean: 0.79371, std: 0.01064, params: {'criterion': 'entropy', 'max_features': 'sqrt', 'max_leaf_nodes': 200, 'n_estimators': 340, 'n_jobs': -1},\n",
       " mean: 0.79257, std: 0.01020, params: {'criterion': 'entropy', 'max_features': 'sqrt', 'max_leaf_nodes': 200, 'n_estimators': 330, 'n_jobs': -1},\n",
       " mean: 0.79200, std: 0.01164, params: {'criterion': 'entropy', 'max_features': 'sqrt', 'max_leaf_nodes': 200, 'n_estimators': 310, 'n_jobs': -1},\n",
       " mean: 0.79181, std: 0.01344, params: {'criterion': 'entropy', 'max_features': 'sqrt', 'max_leaf_nodes': 200, 'n_estimators': 260, 'n_jobs': -1},\n",
       " mean: 0.79162, std: 0.01095, params: {'criterion': 'entropy', 'max_features': 'sqrt', 'max_leaf_nodes': 200, 'n_estimators': 280, 'n_jobs': -1},\n",
       " mean: 0.79143, std: 0.01606, params: {'criterion': 'entropy', 'max_features': 'sqrt', 'max_leaf_nodes': 200, 'n_estimators': 270, 'n_jobs': -1},\n",
       " mean: 0.79029, std: 0.00958, params: {'criterion': 'entropy', 'max_features': 'sqrt', 'max_leaf_nodes': 200, 'n_estimators': 290, 'n_jobs': -1},\n",
       " mean: 0.78952, std: 0.01331, params: {'criterion': 'entropy', 'max_features': 'sqrt', 'max_leaf_nodes': 200, 'n_estimators': 320, 'n_jobs': -1},\n",
       " mean: 0.78895, std: 0.01468, params: {'criterion': 'entropy', 'max_features': 'sqrt', 'max_leaf_nodes': 200, 'n_estimators': 250, 'n_jobs': -1},\n",
       " mean: 0.78876, std: 0.01265, params: {'criterion': 'entropy', 'max_features': 'sqrt', 'max_leaf_nodes': 200, 'n_estimators': 300, 'n_jobs': -1}]"
      ]
     },
     "execution_count": 20,
     "metadata": {},
     "output_type": "execute_result"
    }
   ],
   "source": [
    "sorted(grid_cv.grid_scores_[:10], key = lambda x: x[1], reverse = True)"
   ]
  },
  {
   "cell_type": "code",
   "execution_count": 22,
   "metadata": {
    "collapsed": true
   },
   "outputs": [],
   "source": [
    "#Вывод:\n",
    "#Лучший результат grid_cv получился чуть лучше, чем из rand_grid_cv"
   ]
  },
  {
   "cell_type": "code",
   "execution_count": 23,
   "metadata": {
    "collapsed": true
   },
   "outputs": [],
   "source": [
    "#Общий вывод\n",
    "#Сначала надо использовать функцию случайного выбора параметров, чтобы примерно представлять, \n",
    "#в каком диапазоне определённые параметры должны находиться. (Сразу обычным перебором будет долго).\n",
    "#Затем, сузив диапазоны и, возможно, уменьшив число параметров, можно воспользоваться ф-ей перебора."
   ]
  },
  {
   "cell_type": "code",
   "execution_count": 24,
   "metadata": {
    "collapsed": true
   },
   "outputs": [],
   "source": [
    "#Не знаю, насколько это правильный подход, но в некоторых местах сначала я брал только один параметр и перебирал его варианты \n",
    "#в довольно большом диапазоне при остальных пар-ах по умолчанию, чтобы понять, какой примерно диапазон нужен."
   ]
  },
  {
   "cell_type": "code",
   "execution_count": null,
   "metadata": {
    "collapsed": true
   },
   "outputs": [],
   "source": []
  }
 ],
 "metadata": {
  "kernelspec": {
   "display_name": "Python 3",
   "language": "python",
   "name": "python3"
  },
  "language_info": {
   "codemirror_mode": {
    "name": "ipython",
    "version": 3
   },
   "file_extension": ".py",
   "mimetype": "text/x-python",
   "name": "python",
   "nbconvert_exporter": "python",
   "pygments_lexer": "ipython3",
   "version": "3.6.3"
  }
 },
 "nbformat": 4,
 "nbformat_minor": 2
}
